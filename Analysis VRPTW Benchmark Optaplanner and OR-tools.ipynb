{
 "cells": [
  {
   "cell_type": "markdown",
   "metadata": {},
   "source": [
    "# Results Benchmark "
   ]
  },
  {
   "cell_type": "code",
   "execution_count": 225,
   "metadata": {},
   "outputs": [],
   "source": [
    "import pandas as pd\n",
    "import numpy as np\n",
    "import seaborn as sns\n",
    "import matplotlib.pyplot as plt\n",
    "from pandas.api.types import is_numeric_dtype\n",
    "from collections import Counter\n",
    "from IPython.display import display"
   ]
  },
  {
   "cell_type": "markdown",
   "metadata": {},
   "source": [
    " \n",
    "\n",
    "\n",
    "The results analysed here are for the [Homberger CVRPTW datasets](https://www.sintef.no/projectweb/top/vrptw/homberger-benchmark/). The output files contain scores for "
   ]
  },
  {
   "cell_type": "code",
   "execution_count": 329,
   "metadata": {},
   "outputs": [],
   "source": [
    "result_files = [\"output_200.csv\", \"output_400.csv\", \"output_600.csv\", \"output_800.csv\", \"output_1000.csv\" ]\n",
    "\n",
    "results_dfs = {}\n",
    "for file in result_files:\n",
    "    results_dfs[file] =pd.read_csv(file)\n",
    "    \n"
   ]
  },
  {
   "cell_type": "markdown",
   "metadata": {},
   "source": [
    "Due to how optaplanner works in computing scores, the scores are negative values (it maximizes, so minimizing is achieved by negating the score). We can simply multiply this with $-1$ to get the actual value. "
   ]
  },
  {
   "cell_type": "code",
   "execution_count": 330,
   "metadata": {},
   "outputs": [],
   "source": [
    "def load_and_ready_data(file_name):\n",
    "    \"\"\"\n",
    "    Retrieve data form dictionary and multiply values by -1. \n",
    "    \"\"\"\n",
    "    results = results_dfs[file_name]\n",
    "    for column in results.columns:\n",
    "        if is_numeric_dtype(results[column]):\n",
    "            results[column] = results[column] * -1\n",
    "    return results\n",
    "\n",
    "def plot_boxen_plots(results):\n",
    "    \"\"\"Plot boxen plot\"\"\"\n",
    "    melted_df = results.melt(id_vars=[\"problem\", \"solver\"], value_vars=[\"unassignedjobs\", \"violations\",\"noVehicles\" ,\"totalDistance\"])\n",
    "    sns.catplot(x=\"solver\", col=\"variable\", data=melted_df, kind=\"boxen\", y=\"value\", sharey=False)\n",
    "    \n",
    "def print_statistics(results):\n",
    "    \"\"\"Print statistics\"\"\" \n",
    "    results_ortools_df = results[results[\"solver\"] == \"ortools\"]\n",
    "    results_optaplanner_df = results[results[\"solver\"] == \"optaplanner\"]\n",
    "    print(\"OR-tools\")\n",
    "    display(results_ortools_df.describe().T)\n",
    "    print(\"Optaplanner\")\n",
    "    display(results_optaplanner_df.describe().T)"
   ]
  },
  {
   "cell_type": "code",
   "execution_count": 331,
   "metadata": {},
   "outputs": [],
   "source": [
    "def get_winner(entry, ignore_score_levels = []):\n",
    "    ortools_entry = entry[entry[\"solver\"] == \"ortools\"]\n",
    "    optaplanner_entry = entry[entry[\"solver\"] == \"optaplanner\"]\n",
    "    for column in [\"unassignedjobs\", \"violations\", \"noVehicles\", \"totalDistance\"]:\n",
    "        if not column in ignore_score_levels:\n",
    "            difference = ortools_entry[column].values - optaplanner_entry[column].values\n",
    "            difference = difference[0]\n",
    "            if difference == 0:\n",
    "                continue\n",
    "            elif difference < 0:\n",
    "                return \"ortools\"\n",
    "            elif difference > 0:\n",
    "                return \"optaplanner\"\n",
    "            \n",
    "    return \"equal\""
   ]
  },
  {
   "cell_type": "code",
   "execution_count": 332,
   "metadata": {},
   "outputs": [],
   "source": [
    "def compute_dominating_solver(results, ignore_score_levels = []):\n",
    "    compare_score_results = []\n",
    "    for problemset in results[\"problem\"].unique():\n",
    "        entry = results[results[\"problem\"] == problemset]\n",
    "        compare_score_results.append(get_winner(entry, ignore_score_levels))\n",
    "\n",
    "    print(Counter(compare_score_results))"
   ]
  },
  {
   "cell_type": "markdown",
   "metadata": {},
   "source": [
    "## Problem set with 200 nodes"
   ]
  },
  {
   "cell_type": "code",
   "execution_count": 333,
   "metadata": {},
   "outputs": [
    {
     "data": {
      "image/png": "[encoded data removed]",
      "text/plain": [
       "<Figure size 1440x360 with 4 Axes>"
      ]
     },
     "metadata": {
      "needs_background": "light"
     },
     "output_type": "display_data"
    }
   ],
   "source": [
    "results_200 = load_and_ready_data(\"output_200.csv\")\n",
    "plot_boxen_plots(results_200)"
   ]
  },
  {
   "cell_type": "code",
   "execution_count": 334,
   "metadata": {},
   "outputs": [
    {
     "name": "stdout",
     "output_type": "stream",
     "text": [
      "OR-tools\n"
     ]
    },
    {
     "data": {
      "text/html": [
       "<div>\n",
       "<style scoped>\n",
       "    .dataframe tbody tr th:only-of-type {\n",
       "        vertical-align: middle;\n",
       "    }\n",
       "\n",
       "    .dataframe tbody tr th {\n",
       "        vertical-align: top;\n",
       "    }\n",
       "\n",
       "    .dataframe thead th {\n",
       "        text-align: right;\n",
       "    }\n",
       "</style>\n",
       "<table border=\"1\" class=\"dataframe\">\n",
       "  <thead>\n",
       "    <tr style=\"text-align: right;\">\n",
       "      <th></th>\n",
       "      <th>count</th>\n",
       "      <th>mean</th>\n",
       "      <th>std</th>\n",
       "      <th>min</th>\n",
       "      <th>25%</th>\n",
       "      <th>50%</th>\n",
       "      <th>75%</th>\n",
       "      <th>max</th>\n",
       "    </tr>\n",
       "  </thead>\n",
       "  <tbody>\n",
       "    <tr>\n",
       "      <th>unassignedjobs</th>\n",
       "      <td>60.0</td>\n",
       "      <td>0.000000</td>\n",
       "      <td>0.000000</td>\n",
       "      <td>0.0</td>\n",
       "      <td>0.00</td>\n",
       "      <td>0.0</td>\n",
       "      <td>0.0</td>\n",
       "      <td>0.0</td>\n",
       "    </tr>\n",
       "    <tr>\n",
       "      <th>violations</th>\n",
       "      <td>60.0</td>\n",
       "      <td>0.000000</td>\n",
       "      <td>0.000000</td>\n",
       "      <td>0.0</td>\n",
       "      <td>0.00</td>\n",
       "      <td>0.0</td>\n",
       "      <td>0.0</td>\n",
       "      <td>0.0</td>\n",
       "    </tr>\n",
       "    <tr>\n",
       "      <th>noVehicles</th>\n",
       "      <td>60.0</td>\n",
       "      <td>12.583333</td>\n",
       "      <td>6.737931</td>\n",
       "      <td>4.0</td>\n",
       "      <td>6.00</td>\n",
       "      <td>13.0</td>\n",
       "      <td>19.0</td>\n",
       "      <td>21.0</td>\n",
       "    </tr>\n",
       "    <tr>\n",
       "      <th>totalDistance</th>\n",
       "      <td>60.0</td>\n",
       "      <td>2866.783333</td>\n",
       "      <td>700.758695</td>\n",
       "      <td>1821.0</td>\n",
       "      <td>2417.25</td>\n",
       "      <td>2820.0</td>\n",
       "      <td>3359.5</td>\n",
       "      <td>4806.0</td>\n",
       "    </tr>\n",
       "  </tbody>\n",
       "</table>\n",
       "</div>"
      ],
      "text/plain": [
       "                count         mean         std     min      25%     50%  \\\n",
       "unassignedjobs   60.0     0.000000    0.000000     0.0     0.00     0.0   \n",
       "violations       60.0     0.000000    0.000000     0.0     0.00     0.0   \n",
       "noVehicles       60.0    12.583333    6.737931     4.0     6.00    13.0   \n",
       "totalDistance    60.0  2866.783333  700.758695  1821.0  2417.25  2820.0   \n",
       "\n",
       "                   75%     max  \n",
       "unassignedjobs     0.0     0.0  \n",
       "violations         0.0     0.0  \n",
       "noVehicles        19.0    21.0  \n",
       "totalDistance   3359.5  4806.0  "
      ]
     },
     "metadata": {},
     "output_type": "display_data"
    },
    {
     "name": "stdout",
     "output_type": "stream",
     "text": [
      "Optaplanner\n"
     ]
    },
    {
     "data": {
      "text/html": [
       "<div>\n",
       "<style scoped>\n",
       "    .dataframe tbody tr th:only-of-type {\n",
       "        vertical-align: middle;\n",
       "    }\n",
       "\n",
       "    .dataframe tbody tr th {\n",
       "        vertical-align: top;\n",
       "    }\n",
       "\n",
       "    .dataframe thead th {\n",
       "        text-align: right;\n",
       "    }\n",
       "</style>\n",
       "<table border=\"1\" class=\"dataframe\">\n",
       "  <thead>\n",
       "    <tr style=\"text-align: right;\">\n",
       "      <th></th>\n",
       "      <th>count</th>\n",
       "      <th>mean</th>\n",
       "      <th>std</th>\n",
       "      <th>min</th>\n",
       "      <th>25%</th>\n",
       "      <th>50%</th>\n",
       "      <th>75%</th>\n",
       "      <th>max</th>\n",
       "    </tr>\n",
       "  </thead>\n",
       "  <tbody>\n",
       "    <tr>\n",
       "      <th>unassignedjobs</th>\n",
       "      <td>60.0</td>\n",
       "      <td>0.000000</td>\n",
       "      <td>0.000000</td>\n",
       "      <td>0.0</td>\n",
       "      <td>0.00</td>\n",
       "      <td>0.0</td>\n",
       "      <td>0.00</td>\n",
       "      <td>0.0</td>\n",
       "    </tr>\n",
       "    <tr>\n",
       "      <th>violations</th>\n",
       "      <td>60.0</td>\n",
       "      <td>0.000000</td>\n",
       "      <td>0.000000</td>\n",
       "      <td>0.0</td>\n",
       "      <td>0.00</td>\n",
       "      <td>0.0</td>\n",
       "      <td>0.00</td>\n",
       "      <td>0.0</td>\n",
       "    </tr>\n",
       "    <tr>\n",
       "      <th>noVehicles</th>\n",
       "      <td>60.0</td>\n",
       "      <td>14.116667</td>\n",
       "      <td>6.972322</td>\n",
       "      <td>4.0</td>\n",
       "      <td>7.75</td>\n",
       "      <td>14.0</td>\n",
       "      <td>20.00</td>\n",
       "      <td>25.0</td>\n",
       "    </tr>\n",
       "    <tr>\n",
       "      <th>totalDistance</th>\n",
       "      <td>60.0</td>\n",
       "      <td>2930.750000</td>\n",
       "      <td>677.324263</td>\n",
       "      <td>1929.0</td>\n",
       "      <td>2353.50</td>\n",
       "      <td>2861.5</td>\n",
       "      <td>3436.25</td>\n",
       "      <td>4755.0</td>\n",
       "    </tr>\n",
       "  </tbody>\n",
       "</table>\n",
       "</div>"
      ],
      "text/plain": [
       "                count         mean         std     min      25%     50%  \\\n",
       "unassignedjobs   60.0     0.000000    0.000000     0.0     0.00     0.0   \n",
       "violations       60.0     0.000000    0.000000     0.0     0.00     0.0   \n",
       "noVehicles       60.0    14.116667    6.972322     4.0     7.75    14.0   \n",
       "totalDistance    60.0  2930.750000  677.324263  1929.0  2353.50  2861.5   \n",
       "\n",
       "                    75%     max  \n",
       "unassignedjobs     0.00     0.0  \n",
       "violations         0.00     0.0  \n",
       "noVehicles        20.00    25.0  \n",
       "totalDistance   3436.25  4755.0  "
      ]
     },
     "metadata": {},
     "output_type": "display_data"
    }
   ],
   "source": [
    "plot_statistics(results_200)"
   ]
  },
  {
   "cell_type": "code",
   "execution_count": 335,
   "metadata": {},
   "outputs": [
    {
     "name": "stdout",
     "output_type": "stream",
     "text": [
      "Counter({'ortools': 56, 'optaplanner': 4})\n"
     ]
    }
   ],
   "source": [
    "compute_dominating_solver(results_200)"
   ]
  },
  {
   "cell_type": "markdown",
   "metadata": {},
   "source": [
    "# Problem set with 400 nodes"
   ]
  },
  {
   "cell_type": "code",
   "execution_count": 336,
   "metadata": {},
   "outputs": [
    {
     "data": {
      "image/png": "[encoded data removed]",
      "text/plain": [
       "<Figure size 1440x360 with 4 Axes>"
      ]
     },
     "metadata": {
      "needs_background": "light"
     },
     "output_type": "display_data"
    }
   ],
   "source": [
    "results_400 = load_and_ready_data(\"output_400.csv\")\n",
    "plot_boxen_plots(results_400)"
   ]
  },
  {
   "cell_type": "code",
   "execution_count": 338,
   "metadata": {},
   "outputs": [
    {
     "name": "stdout",
     "output_type": "stream",
     "text": [
      "OR-tools\n"
     ]
    },
    {
     "data": {
      "text/html": [
       "<div>\n",
       "<style scoped>\n",
       "    .dataframe tbody tr th:only-of-type {\n",
       "        vertical-align: middle;\n",
       "    }\n",
       "\n",
       "    .dataframe tbody tr th {\n",
       "        vertical-align: top;\n",
       "    }\n",
       "\n",
       "    .dataframe thead th {\n",
       "        text-align: right;\n",
       "    }\n",
       "</style>\n",
       "<table border=\"1\" class=\"dataframe\">\n",
       "  <thead>\n",
       "    <tr style=\"text-align: right;\">\n",
       "      <th></th>\n",
       "      <th>count</th>\n",
       "      <th>mean</th>\n",
       "      <th>std</th>\n",
       "      <th>min</th>\n",
       "      <th>25%</th>\n",
       "      <th>50%</th>\n",
       "      <th>75%</th>\n",
       "      <th>max</th>\n",
       "    </tr>\n",
       "  </thead>\n",
       "  <tbody>\n",
       "    <tr>\n",
       "      <th>unassignedjobs</th>\n",
       "      <td>60.0</td>\n",
       "      <td>0.000000</td>\n",
       "      <td>0.000000</td>\n",
       "      <td>0.0</td>\n",
       "      <td>0.00</td>\n",
       "      <td>0.0</td>\n",
       "      <td>0.00</td>\n",
       "      <td>0.0</td>\n",
       "    </tr>\n",
       "    <tr>\n",
       "      <th>violations</th>\n",
       "      <td>60.0</td>\n",
       "      <td>0.000000</td>\n",
       "      <td>0.000000</td>\n",
       "      <td>0.0</td>\n",
       "      <td>0.00</td>\n",
       "      <td>0.0</td>\n",
       "      <td>0.00</td>\n",
       "      <td>0.0</td>\n",
       "    </tr>\n",
       "    <tr>\n",
       "      <th>noVehicles</th>\n",
       "      <td>60.0</td>\n",
       "      <td>25.350000</td>\n",
       "      <td>13.395958</td>\n",
       "      <td>9.0</td>\n",
       "      <td>13.00</td>\n",
       "      <td>26.5</td>\n",
       "      <td>38.00</td>\n",
       "      <td>43.0</td>\n",
       "    </tr>\n",
       "    <tr>\n",
       "      <th>totalDistance</th>\n",
       "      <td>60.0</td>\n",
       "      <td>6931.483333</td>\n",
       "      <td>1923.134848</td>\n",
       "      <td>3872.0</td>\n",
       "      <td>5114.25</td>\n",
       "      <td>7218.0</td>\n",
       "      <td>8520.25</td>\n",
       "      <td>10815.0</td>\n",
       "    </tr>\n",
       "  </tbody>\n",
       "</table>\n",
       "</div>"
      ],
      "text/plain": [
       "                count         mean          std     min      25%     50%  \\\n",
       "unassignedjobs   60.0     0.000000     0.000000     0.0     0.00     0.0   \n",
       "violations       60.0     0.000000     0.000000     0.0     0.00     0.0   \n",
       "noVehicles       60.0    25.350000    13.395958     9.0    13.00    26.5   \n",
       "totalDistance    60.0  6931.483333  1923.134848  3872.0  5114.25  7218.0   \n",
       "\n",
       "                    75%      max  \n",
       "unassignedjobs     0.00      0.0  \n",
       "violations         0.00      0.0  \n",
       "noVehicles        38.00     43.0  \n",
       "totalDistance   8520.25  10815.0  "
      ]
     },
     "metadata": {},
     "output_type": "display_data"
    },
    {
     "name": "stdout",
     "output_type": "stream",
     "text": [
      "Optaplanner\n"
     ]
    },
    {
     "data": {
      "text/html": [
       "<div>\n",
       "<style scoped>\n",
       "    .dataframe tbody tr th:only-of-type {\n",
       "        vertical-align: middle;\n",
       "    }\n",
       "\n",
       "    .dataframe tbody tr th {\n",
       "        vertical-align: top;\n",
       "    }\n",
       "\n",
       "    .dataframe thead th {\n",
       "        text-align: right;\n",
       "    }\n",
       "</style>\n",
       "<table border=\"1\" class=\"dataframe\">\n",
       "  <thead>\n",
       "    <tr style=\"text-align: right;\">\n",
       "      <th></th>\n",
       "      <th>count</th>\n",
       "      <th>mean</th>\n",
       "      <th>std</th>\n",
       "      <th>min</th>\n",
       "      <th>25%</th>\n",
       "      <th>50%</th>\n",
       "      <th>75%</th>\n",
       "      <th>max</th>\n",
       "    </tr>\n",
       "  </thead>\n",
       "  <tbody>\n",
       "    <tr>\n",
       "      <th>unassignedjobs</th>\n",
       "      <td>60.0</td>\n",
       "      <td>0.000000</td>\n",
       "      <td>0.000000</td>\n",
       "      <td>0.0</td>\n",
       "      <td>0.00</td>\n",
       "      <td>0.0</td>\n",
       "      <td>0.00</td>\n",
       "      <td>0.0</td>\n",
       "    </tr>\n",
       "    <tr>\n",
       "      <th>violations</th>\n",
       "      <td>60.0</td>\n",
       "      <td>0.000000</td>\n",
       "      <td>0.000000</td>\n",
       "      <td>0.0</td>\n",
       "      <td>0.00</td>\n",
       "      <td>0.0</td>\n",
       "      <td>0.00</td>\n",
       "      <td>0.0</td>\n",
       "    </tr>\n",
       "    <tr>\n",
       "      <th>noVehicles</th>\n",
       "      <td>60.0</td>\n",
       "      <td>27.766667</td>\n",
       "      <td>13.761118</td>\n",
       "      <td>8.0</td>\n",
       "      <td>15.00</td>\n",
       "      <td>28.5</td>\n",
       "      <td>40.00</td>\n",
       "      <td>48.0</td>\n",
       "    </tr>\n",
       "    <tr>\n",
       "      <th>totalDistance</th>\n",
       "      <td>60.0</td>\n",
       "      <td>6953.600000</td>\n",
       "      <td>1780.222679</td>\n",
       "      <td>4199.0</td>\n",
       "      <td>5295.25</td>\n",
       "      <td>7147.5</td>\n",
       "      <td>8278.25</td>\n",
       "      <td>10943.0</td>\n",
       "    </tr>\n",
       "  </tbody>\n",
       "</table>\n",
       "</div>"
      ],
      "text/plain": [
       "                count         mean          std     min      25%     50%  \\\n",
       "unassignedjobs   60.0     0.000000     0.000000     0.0     0.00     0.0   \n",
       "violations       60.0     0.000000     0.000000     0.0     0.00     0.0   \n",
       "noVehicles       60.0    27.766667    13.761118     8.0    15.00    28.5   \n",
       "totalDistance    60.0  6953.600000  1780.222679  4199.0  5295.25  7147.5   \n",
       "\n",
       "                    75%      max  \n",
       "unassignedjobs     0.00      0.0  \n",
       "violations         0.00      0.0  \n",
       "noVehicles        40.00     48.0  \n",
       "totalDistance   8278.25  10943.0  "
      ]
     },
     "metadata": {},
     "output_type": "display_data"
    }
   ],
   "source": [
    "plot_statistics(results_400)"
   ]
  },
  {
   "cell_type": "code",
   "execution_count": 320,
   "metadata": {},
   "outputs": [
    {
     "name": "stdout",
     "output_type": "stream",
     "text": [
      "Counter({'ortools': 45, 'optaplanner': 15})\n"
     ]
    }
   ],
   "source": [
    "compute_dominating_solver(results_400)"
   ]
  },
  {
   "cell_type": "markdown",
   "metadata": {},
   "source": [
    "# Problem set with 600 nodes"
   ]
  },
  {
   "cell_type": "code",
   "execution_count": 339,
   "metadata": {},
   "outputs": [
    {
     "data": {
      "image/png": "[encoded data removed]",
      "text/plain": [
       "<Figure size 1440x360 with 4 Axes>"
      ]
     },
     "metadata": {
      "needs_background": "light"
     },
     "output_type": "display_data"
    }
   ],
   "source": [
    "results_600 = load_and_ready_data(\"output_600.csv\")\n",
    "plot_boxen_plots(results_600)"
   ]
  },
  {
   "cell_type": "code",
   "execution_count": 340,
   "metadata": {},
   "outputs": [
    {
     "name": "stdout",
     "output_type": "stream",
     "text": [
      "OR-tools\n"
     ]
    },
    {
     "data": {
      "text/html": [
       "<div>\n",
       "<style scoped>\n",
       "    .dataframe tbody tr th:only-of-type {\n",
       "        vertical-align: middle;\n",
       "    }\n",
       "\n",
       "    .dataframe tbody tr th {\n",
       "        vertical-align: top;\n",
       "    }\n",
       "\n",
       "    .dataframe thead th {\n",
       "        text-align: right;\n",
       "    }\n",
       "</style>\n",
       "<table border=\"1\" class=\"dataframe\">\n",
       "  <thead>\n",
       "    <tr style=\"text-align: right;\">\n",
       "      <th></th>\n",
       "      <th>count</th>\n",
       "      <th>mean</th>\n",
       "      <th>std</th>\n",
       "      <th>min</th>\n",
       "      <th>25%</th>\n",
       "      <th>50%</th>\n",
       "      <th>75%</th>\n",
       "      <th>max</th>\n",
       "    </tr>\n",
       "  </thead>\n",
       "  <tbody>\n",
       "    <tr>\n",
       "      <th>unassignedjobs</th>\n",
       "      <td>60.0</td>\n",
       "      <td>0.0</td>\n",
       "      <td>0.000000</td>\n",
       "      <td>0.0</td>\n",
       "      <td>0.0</td>\n",
       "      <td>0.0</td>\n",
       "      <td>0.0</td>\n",
       "      <td>0.0</td>\n",
       "    </tr>\n",
       "    <tr>\n",
       "      <th>violations</th>\n",
       "      <td>60.0</td>\n",
       "      <td>0.0</td>\n",
       "      <td>0.000000</td>\n",
       "      <td>0.0</td>\n",
       "      <td>0.0</td>\n",
       "      <td>0.0</td>\n",
       "      <td>0.0</td>\n",
       "      <td>0.0</td>\n",
       "    </tr>\n",
       "    <tr>\n",
       "      <th>noVehicles</th>\n",
       "      <td>60.0</td>\n",
       "      <td>38.0</td>\n",
       "      <td>20.586321</td>\n",
       "      <td>13.0</td>\n",
       "      <td>18.0</td>\n",
       "      <td>38.5</td>\n",
       "      <td>57.0</td>\n",
       "      <td>65.0</td>\n",
       "    </tr>\n",
       "    <tr>\n",
       "      <th>totalDistance</th>\n",
       "      <td>60.0</td>\n",
       "      <td>14407.1</td>\n",
       "      <td>4372.844006</td>\n",
       "      <td>7889.0</td>\n",
       "      <td>10553.0</td>\n",
       "      <td>15098.5</td>\n",
       "      <td>18143.5</td>\n",
       "      <td>23029.0</td>\n",
       "    </tr>\n",
       "  </tbody>\n",
       "</table>\n",
       "</div>"
      ],
      "text/plain": [
       "                count     mean          std     min      25%      50%  \\\n",
       "unassignedjobs   60.0      0.0     0.000000     0.0      0.0      0.0   \n",
       "violations       60.0      0.0     0.000000     0.0      0.0      0.0   \n",
       "noVehicles       60.0     38.0    20.586321    13.0     18.0     38.5   \n",
       "totalDistance    60.0  14407.1  4372.844006  7889.0  10553.0  15098.5   \n",
       "\n",
       "                    75%      max  \n",
       "unassignedjobs      0.0      0.0  \n",
       "violations          0.0      0.0  \n",
       "noVehicles         57.0     65.0  \n",
       "totalDistance   18143.5  23029.0  "
      ]
     },
     "metadata": {},
     "output_type": "display_data"
    },
    {
     "name": "stdout",
     "output_type": "stream",
     "text": [
      "Optaplanner\n"
     ]
    },
    {
     "data": {
      "text/html": [
       "<div>\n",
       "<style scoped>\n",
       "    .dataframe tbody tr th:only-of-type {\n",
       "        vertical-align: middle;\n",
       "    }\n",
       "\n",
       "    .dataframe tbody tr th {\n",
       "        vertical-align: top;\n",
       "    }\n",
       "\n",
       "    .dataframe thead th {\n",
       "        text-align: right;\n",
       "    }\n",
       "</style>\n",
       "<table border=\"1\" class=\"dataframe\">\n",
       "  <thead>\n",
       "    <tr style=\"text-align: right;\">\n",
       "      <th></th>\n",
       "      <th>count</th>\n",
       "      <th>mean</th>\n",
       "      <th>std</th>\n",
       "      <th>min</th>\n",
       "      <th>25%</th>\n",
       "      <th>50%</th>\n",
       "      <th>75%</th>\n",
       "      <th>max</th>\n",
       "    </tr>\n",
       "  </thead>\n",
       "  <tbody>\n",
       "    <tr>\n",
       "      <th>unassignedjobs</th>\n",
       "      <td>60.0</td>\n",
       "      <td>0.000000</td>\n",
       "      <td>0.000000</td>\n",
       "      <td>0.0</td>\n",
       "      <td>0.00</td>\n",
       "      <td>0.0</td>\n",
       "      <td>0.00</td>\n",
       "      <td>0.0</td>\n",
       "    </tr>\n",
       "    <tr>\n",
       "      <th>violations</th>\n",
       "      <td>60.0</td>\n",
       "      <td>0.000000</td>\n",
       "      <td>0.000000</td>\n",
       "      <td>0.0</td>\n",
       "      <td>0.00</td>\n",
       "      <td>0.0</td>\n",
       "      <td>0.00</td>\n",
       "      <td>0.0</td>\n",
       "    </tr>\n",
       "    <tr>\n",
       "      <th>noVehicles</th>\n",
       "      <td>60.0</td>\n",
       "      <td>41.800000</td>\n",
       "      <td>20.984094</td>\n",
       "      <td>12.0</td>\n",
       "      <td>22.50</td>\n",
       "      <td>44.0</td>\n",
       "      <td>62.25</td>\n",
       "      <td>69.0</td>\n",
       "    </tr>\n",
       "    <tr>\n",
       "      <th>totalDistance</th>\n",
       "      <td>60.0</td>\n",
       "      <td>14777.383333</td>\n",
       "      <td>3849.000016</td>\n",
       "      <td>8742.0</td>\n",
       "      <td>10974.75</td>\n",
       "      <td>15295.5</td>\n",
       "      <td>17864.75</td>\n",
       "      <td>23074.0</td>\n",
       "    </tr>\n",
       "  </tbody>\n",
       "</table>\n",
       "</div>"
      ],
      "text/plain": [
       "                count          mean          std     min       25%      50%  \\\n",
       "unassignedjobs   60.0      0.000000     0.000000     0.0      0.00      0.0   \n",
       "violations       60.0      0.000000     0.000000     0.0      0.00      0.0   \n",
       "noVehicles       60.0     41.800000    20.984094    12.0     22.50     44.0   \n",
       "totalDistance    60.0  14777.383333  3849.000016  8742.0  10974.75  15295.5   \n",
       "\n",
       "                     75%      max  \n",
       "unassignedjobs      0.00      0.0  \n",
       "violations          0.00      0.0  \n",
       "noVehicles         62.25     69.0  \n",
       "totalDistance   17864.75  23074.0  "
      ]
     },
     "metadata": {},
     "output_type": "display_data"
    }
   ],
   "source": [
    "plot_statistics(results_600)"
   ]
  },
  {
   "cell_type": "code",
   "execution_count": 341,
   "metadata": {},
   "outputs": [
    {
     "name": "stdout",
     "output_type": "stream",
     "text": [
      "Counter({'ortools': 47, 'optaplanner': 13})\n"
     ]
    }
   ],
   "source": [
    "compute_dominating_solver(results_600)"
   ]
  },
  {
   "cell_type": "markdown",
   "metadata": {},
   "source": [
    "# Problem set with 800 nodes"
   ]
  },
  {
   "cell_type": "code",
   "execution_count": 342,
   "metadata": {},
   "outputs": [
    {
     "data": {
      "image/png": "[encoded data removed]",
      "text/plain": [
       "<Figure size 1440x360 with 4 Axes>"
      ]
     },
     "metadata": {
      "needs_background": "light"
     },
     "output_type": "display_data"
    }
   ],
   "source": [
    "results_800 = load_and_ready_data(\"output_800.csv\")\n",
    "plot_boxen_plots(results_800)"
   ]
  },
  {
   "cell_type": "code",
   "execution_count": 343,
   "metadata": {},
   "outputs": [
    {
     "name": "stdout",
     "output_type": "stream",
     "text": [
      "OR-tools\n"
     ]
    },
    {
     "data": {
      "text/html": [
       "<div>\n",
       "<style scoped>\n",
       "    .dataframe tbody tr th:only-of-type {\n",
       "        vertical-align: middle;\n",
       "    }\n",
       "\n",
       "    .dataframe tbody tr th {\n",
       "        vertical-align: top;\n",
       "    }\n",
       "\n",
       "    .dataframe thead th {\n",
       "        text-align: right;\n",
       "    }\n",
       "</style>\n",
       "<table border=\"1\" class=\"dataframe\">\n",
       "  <thead>\n",
       "    <tr style=\"text-align: right;\">\n",
       "      <th></th>\n",
       "      <th>count</th>\n",
       "      <th>mean</th>\n",
       "      <th>std</th>\n",
       "      <th>min</th>\n",
       "      <th>25%</th>\n",
       "      <th>50%</th>\n",
       "      <th>75%</th>\n",
       "      <th>max</th>\n",
       "    </tr>\n",
       "  </thead>\n",
       "  <tbody>\n",
       "    <tr>\n",
       "      <th>unassignedjobs</th>\n",
       "      <td>60.0</td>\n",
       "      <td>0.000000</td>\n",
       "      <td>0.000000</td>\n",
       "      <td>0.0</td>\n",
       "      <td>0.00</td>\n",
       "      <td>0.0</td>\n",
       "      <td>0.0</td>\n",
       "      <td>0.0</td>\n",
       "    </tr>\n",
       "    <tr>\n",
       "      <th>violations</th>\n",
       "      <td>60.0</td>\n",
       "      <td>0.000000</td>\n",
       "      <td>0.000000</td>\n",
       "      <td>0.0</td>\n",
       "      <td>0.00</td>\n",
       "      <td>0.0</td>\n",
       "      <td>0.0</td>\n",
       "      <td>0.0</td>\n",
       "    </tr>\n",
       "    <tr>\n",
       "      <th>noVehicles</th>\n",
       "      <td>60.0</td>\n",
       "      <td>50.683333</td>\n",
       "      <td>26.517338</td>\n",
       "      <td>16.0</td>\n",
       "      <td>25.50</td>\n",
       "      <td>55.5</td>\n",
       "      <td>76.0</td>\n",
       "      <td>86.0</td>\n",
       "    </tr>\n",
       "    <tr>\n",
       "      <th>totalDistance</th>\n",
       "      <td>60.0</td>\n",
       "      <td>24740.716667</td>\n",
       "      <td>8128.676920</td>\n",
       "      <td>12891.0</td>\n",
       "      <td>16604.25</td>\n",
       "      <td>25800.0</td>\n",
       "      <td>32376.5</td>\n",
       "      <td>39507.0</td>\n",
       "    </tr>\n",
       "  </tbody>\n",
       "</table>\n",
       "</div>"
      ],
      "text/plain": [
       "                count          mean          std      min       25%      50%  \\\n",
       "unassignedjobs   60.0      0.000000     0.000000      0.0      0.00      0.0   \n",
       "violations       60.0      0.000000     0.000000      0.0      0.00      0.0   \n",
       "noVehicles       60.0     50.683333    26.517338     16.0     25.50     55.5   \n",
       "totalDistance    60.0  24740.716667  8128.676920  12891.0  16604.25  25800.0   \n",
       "\n",
       "                    75%      max  \n",
       "unassignedjobs      0.0      0.0  \n",
       "violations          0.0      0.0  \n",
       "noVehicles         76.0     86.0  \n",
       "totalDistance   32376.5  39507.0  "
      ]
     },
     "metadata": {},
     "output_type": "display_data"
    },
    {
     "name": "stdout",
     "output_type": "stream",
     "text": [
      "Optaplanner\n"
     ]
    },
    {
     "data": {
      "text/html": [
       "<div>\n",
       "<style scoped>\n",
       "    .dataframe tbody tr th:only-of-type {\n",
       "        vertical-align: middle;\n",
       "    }\n",
       "\n",
       "    .dataframe tbody tr th {\n",
       "        vertical-align: top;\n",
       "    }\n",
       "\n",
       "    .dataframe thead th {\n",
       "        text-align: right;\n",
       "    }\n",
       "</style>\n",
       "<table border=\"1\" class=\"dataframe\">\n",
       "  <thead>\n",
       "    <tr style=\"text-align: right;\">\n",
       "      <th></th>\n",
       "      <th>count</th>\n",
       "      <th>mean</th>\n",
       "      <th>std</th>\n",
       "      <th>min</th>\n",
       "      <th>25%</th>\n",
       "      <th>50%</th>\n",
       "      <th>75%</th>\n",
       "      <th>max</th>\n",
       "    </tr>\n",
       "  </thead>\n",
       "  <tbody>\n",
       "    <tr>\n",
       "      <th>unassignedjobs</th>\n",
       "      <td>60.0</td>\n",
       "      <td>0.000000</td>\n",
       "      <td>0.000000</td>\n",
       "      <td>0.0</td>\n",
       "      <td>0.00</td>\n",
       "      <td>0.0</td>\n",
       "      <td>0.00</td>\n",
       "      <td>0.0</td>\n",
       "    </tr>\n",
       "    <tr>\n",
       "      <th>violations</th>\n",
       "      <td>60.0</td>\n",
       "      <td>0.000000</td>\n",
       "      <td>0.000000</td>\n",
       "      <td>0.0</td>\n",
       "      <td>0.00</td>\n",
       "      <td>0.0</td>\n",
       "      <td>0.00</td>\n",
       "      <td>0.0</td>\n",
       "    </tr>\n",
       "    <tr>\n",
       "      <th>noVehicles</th>\n",
       "      <td>60.0</td>\n",
       "      <td>55.400000</td>\n",
       "      <td>27.890342</td>\n",
       "      <td>16.0</td>\n",
       "      <td>28.75</td>\n",
       "      <td>57.5</td>\n",
       "      <td>82.25</td>\n",
       "      <td>92.0</td>\n",
       "    </tr>\n",
       "    <tr>\n",
       "      <th>totalDistance</th>\n",
       "      <td>60.0</td>\n",
       "      <td>25850.016667</td>\n",
       "      <td>7471.089364</td>\n",
       "      <td>14237.0</td>\n",
       "      <td>18995.75</td>\n",
       "      <td>27184.5</td>\n",
       "      <td>32534.25</td>\n",
       "      <td>39280.0</td>\n",
       "    </tr>\n",
       "  </tbody>\n",
       "</table>\n",
       "</div>"
      ],
      "text/plain": [
       "                count          mean          std      min       25%      50%  \\\n",
       "unassignedjobs   60.0      0.000000     0.000000      0.0      0.00      0.0   \n",
       "violations       60.0      0.000000     0.000000      0.0      0.00      0.0   \n",
       "noVehicles       60.0     55.400000    27.890342     16.0     28.75     57.5   \n",
       "totalDistance    60.0  25850.016667  7471.089364  14237.0  18995.75  27184.5   \n",
       "\n",
       "                     75%      max  \n",
       "unassignedjobs      0.00      0.0  \n",
       "violations          0.00      0.0  \n",
       "noVehicles         82.25     92.0  \n",
       "totalDistance   32534.25  39280.0  "
      ]
     },
     "metadata": {},
     "output_type": "display_data"
    }
   ],
   "source": [
    "plot_statistics(results_800)"
   ]
  },
  {
   "cell_type": "code",
   "execution_count": 344,
   "metadata": {},
   "outputs": [
    {
     "name": "stdout",
     "output_type": "stream",
     "text": [
      "Counter({'ortools': 48, 'optaplanner': 12})\n"
     ]
    }
   ],
   "source": [
    "compute_dominating_solver(results_800)"
   ]
  },
  {
   "cell_type": "markdown",
   "metadata": {},
   "source": [
    "# Problem set with 1000 nodes"
   ]
  },
  {
   "cell_type": "code",
   "execution_count": 345,
   "metadata": {},
   "outputs": [
    {
     "data": {
      "image/png": "[encoded data removed]",
      "text/plain": [
       "<Figure size 1440x360 with 4 Axes>"
      ]
     },
     "metadata": {
      "needs_background": "light"
     },
     "output_type": "display_data"
    }
   ],
   "source": [
    "results_1000 = load_and_ready_data(\"output_1000.csv\")\n",
    "plot_boxen_plots(results_1000)"
   ]
  },
  {
   "cell_type": "code",
   "execution_count": 346,
   "metadata": {
    "scrolled": true
   },
   "outputs": [
    {
     "name": "stdout",
     "output_type": "stream",
     "text": [
      "OR-tools\n"
     ]
    },
    {
     "data": {
      "text/html": [
       "<div>\n",
       "<style scoped>\n",
       "    .dataframe tbody tr th:only-of-type {\n",
       "        vertical-align: middle;\n",
       "    }\n",
       "\n",
       "    .dataframe tbody tr th {\n",
       "        vertical-align: top;\n",
       "    }\n",
       "\n",
       "    .dataframe thead th {\n",
       "        text-align: right;\n",
       "    }\n",
       "</style>\n",
       "<table border=\"1\" class=\"dataframe\">\n",
       "  <thead>\n",
       "    <tr style=\"text-align: right;\">\n",
       "      <th></th>\n",
       "      <th>count</th>\n",
       "      <th>mean</th>\n",
       "      <th>std</th>\n",
       "      <th>min</th>\n",
       "      <th>25%</th>\n",
       "      <th>50%</th>\n",
       "      <th>75%</th>\n",
       "      <th>max</th>\n",
       "    </tr>\n",
       "  </thead>\n",
       "  <tbody>\n",
       "    <tr>\n",
       "      <th>unassignedjobs</th>\n",
       "      <td>59.0</td>\n",
       "      <td>0.000000</td>\n",
       "      <td>0.000000</td>\n",
       "      <td>0.0</td>\n",
       "      <td>0.0</td>\n",
       "      <td>0.0</td>\n",
       "      <td>0.0</td>\n",
       "      <td>0.0</td>\n",
       "    </tr>\n",
       "    <tr>\n",
       "      <th>violations</th>\n",
       "      <td>59.0</td>\n",
       "      <td>0.000000</td>\n",
       "      <td>0.000000</td>\n",
       "      <td>0.0</td>\n",
       "      <td>0.0</td>\n",
       "      <td>0.0</td>\n",
       "      <td>0.0</td>\n",
       "      <td>0.0</td>\n",
       "    </tr>\n",
       "    <tr>\n",
       "      <th>noVehicles</th>\n",
       "      <td>59.0</td>\n",
       "      <td>73.033898</td>\n",
       "      <td>26.749132</td>\n",
       "      <td>29.0</td>\n",
       "      <td>48.5</td>\n",
       "      <td>71.0</td>\n",
       "      <td>95.0</td>\n",
       "      <td>114.0</td>\n",
       "    </tr>\n",
       "    <tr>\n",
       "      <th>totalDistance</th>\n",
       "      <td>59.0</td>\n",
       "      <td>40843.508475</td>\n",
       "      <td>11808.559100</td>\n",
       "      <td>20260.0</td>\n",
       "      <td>29415.0</td>\n",
       "      <td>45544.0</td>\n",
       "      <td>50264.5</td>\n",
       "      <td>59491.0</td>\n",
       "    </tr>\n",
       "  </tbody>\n",
       "</table>\n",
       "</div>"
      ],
      "text/plain": [
       "                count          mean           std      min      25%      50%  \\\n",
       "unassignedjobs   59.0      0.000000      0.000000      0.0      0.0      0.0   \n",
       "violations       59.0      0.000000      0.000000      0.0      0.0      0.0   \n",
       "noVehicles       59.0     73.033898     26.749132     29.0     48.5     71.0   \n",
       "totalDistance    59.0  40843.508475  11808.559100  20260.0  29415.0  45544.0   \n",
       "\n",
       "                    75%      max  \n",
       "unassignedjobs      0.0      0.0  \n",
       "violations          0.0      0.0  \n",
       "noVehicles         95.0    114.0  \n",
       "totalDistance   50264.5  59491.0  "
      ]
     },
     "metadata": {},
     "output_type": "display_data"
    },
    {
     "name": "stdout",
     "output_type": "stream",
     "text": [
      "Optaplanner\n"
     ]
    },
    {
     "data": {
      "text/html": [
       "<div>\n",
       "<style scoped>\n",
       "    .dataframe tbody tr th:only-of-type {\n",
       "        vertical-align: middle;\n",
       "    }\n",
       "\n",
       "    .dataframe tbody tr th {\n",
       "        vertical-align: top;\n",
       "    }\n",
       "\n",
       "    .dataframe thead th {\n",
       "        text-align: right;\n",
       "    }\n",
       "</style>\n",
       "<table border=\"1\" class=\"dataframe\">\n",
       "  <thead>\n",
       "    <tr style=\"text-align: right;\">\n",
       "      <th></th>\n",
       "      <th>count</th>\n",
       "      <th>mean</th>\n",
       "      <th>std</th>\n",
       "      <th>min</th>\n",
       "      <th>25%</th>\n",
       "      <th>50%</th>\n",
       "      <th>75%</th>\n",
       "      <th>max</th>\n",
       "    </tr>\n",
       "  </thead>\n",
       "  <tbody>\n",
       "    <tr>\n",
       "      <th>unassignedjobs</th>\n",
       "      <td>59.0</td>\n",
       "      <td>0.000000</td>\n",
       "      <td>0.00000</td>\n",
       "      <td>0.0</td>\n",
       "      <td>0.0</td>\n",
       "      <td>0.0</td>\n",
       "      <td>0.0</td>\n",
       "      <td>0.0</td>\n",
       "    </tr>\n",
       "    <tr>\n",
       "      <th>violations</th>\n",
       "      <td>59.0</td>\n",
       "      <td>0.000000</td>\n",
       "      <td>0.00000</td>\n",
       "      <td>0.0</td>\n",
       "      <td>0.0</td>\n",
       "      <td>0.0</td>\n",
       "      <td>0.0</td>\n",
       "      <td>0.0</td>\n",
       "    </tr>\n",
       "    <tr>\n",
       "      <th>noVehicles</th>\n",
       "      <td>59.0</td>\n",
       "      <td>68.779661</td>\n",
       "      <td>34.95863</td>\n",
       "      <td>20.0</td>\n",
       "      <td>33.5</td>\n",
       "      <td>57.0</td>\n",
       "      <td>102.5</td>\n",
       "      <td>114.0</td>\n",
       "    </tr>\n",
       "    <tr>\n",
       "      <th>totalDistance</th>\n",
       "      <td>59.0</td>\n",
       "      <td>41449.542373</td>\n",
       "      <td>12077.57657</td>\n",
       "      <td>20991.0</td>\n",
       "      <td>29341.0</td>\n",
       "      <td>45407.0</td>\n",
       "      <td>51681.0</td>\n",
       "      <td>59293.0</td>\n",
       "    </tr>\n",
       "  </tbody>\n",
       "</table>\n",
       "</div>"
      ],
      "text/plain": [
       "                count          mean          std      min      25%      50%  \\\n",
       "unassignedjobs   59.0      0.000000      0.00000      0.0      0.0      0.0   \n",
       "violations       59.0      0.000000      0.00000      0.0      0.0      0.0   \n",
       "noVehicles       59.0     68.779661     34.95863     20.0     33.5     57.0   \n",
       "totalDistance    59.0  41449.542373  12077.57657  20991.0  29341.0  45407.0   \n",
       "\n",
       "                    75%      max  \n",
       "unassignedjobs      0.0      0.0  \n",
       "violations          0.0      0.0  \n",
       "noVehicles        102.5    114.0  \n",
       "totalDistance   51681.0  59293.0  "
      ]
     },
     "metadata": {},
     "output_type": "display_data"
    }
   ],
   "source": [
    "plot_statistics(results_1000)"
   ]
  },
  {
   "cell_type": "code",
   "execution_count": 347,
   "metadata": {},
   "outputs": [
    {
     "name": "stdout",
     "output_type": "stream",
     "text": [
      "Counter({'optaplanner': 31, 'ortools': 28})\n"
     ]
    }
   ],
   "source": [
    "compute_dominating_solver(results_1000)"
   ]
  },
  {
   "cell_type": "code",
   "execution_count": null,
   "metadata": {},
   "outputs": [],
   "source": []
  }
 ],
 "metadata": {
  "kernelspec": {
   "display_name": "Python 3",
   "language": "python",
   "name": "python3"
  },
  "language_info": {
   "codemirror_mode": {
    "name": "ipython",
    "version": 3
   },
   "file_extension": ".py",
   "mimetype": "text/x-python",
   "name": "python",
   "nbconvert_exporter": "python",
   "pygments_lexer": "ipython3",
   "version": "3.7.0"
  }
 },
 "nbformat": 4,
 "nbformat_minor": 2
}
